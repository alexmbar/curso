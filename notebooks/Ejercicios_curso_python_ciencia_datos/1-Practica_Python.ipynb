{
  "cells": [
    {
      "cell_type": "markdown",
      "metadata": {
        "id": "0m1rcba82oPe"
      },
      "source": [
        "# [PRACTICA DE PYTHON](https://joserzapata.github.io/courses/python-ciencia-datos/python/)\n",
        "## [Curso Python para Ciencia de datos](https://joserzapata.github.io/courses/python-ciencia-datos/)\n",
        "### Por Jose R. Zapata - https://joserzapata.github.io/"
      ]
    },
    {
      "cell_type": "markdown",
      "metadata": {
        "id": "z5Azxhb2ZTqn"
      },
      "source": [
        "<div class=\"alert alert-success\">\n",
        "\n",
        "<b>NOTA:</b> Realizar Primero los ejercicios y luego revisar las soluciones propuestas.\n",
        "\n",
        "[Solucion Ejercicios Python - click para abrir](https://joserzapata.github.io/courses/python-ciencia-datos/python/1-practica_python-solucion/)\n",
        "\n",
        "</div>"
      ]
    },
    {
      "cell_type": "markdown",
      "metadata": {
        "id": "qDEj_c6k2oPf"
      },
      "source": [
        "**Ejercicios**\n",
        "\n",
        "Responda las preguntas o complete las tareas que se detallan en negrita a continuación, use el método específico descrito, si corresponde."
      ]
    },
    {
      "cell_type": "markdown",
      "metadata": {
        "id": "CCg66PLy2oPg"
      },
      "source": [
        "**Cuanto es 43*28?**"
      ]
    },
    {
      "cell_type": "code",
      "execution_count": 3,
      "metadata": {
        "colab": {
          "base_uri": "https://localhost:8080/"
        },
        "id": "tQOWEcm353sh",
        "outputId": "d74d23fc-7d3e-438e-ada8-a675fa4cfbca"
      },
      "outputs": [
        {
          "output_type": "stream",
          "name": "stdout",
          "text": [
            "1204\n"
          ]
        }
      ],
      "source": [
        "# Copie su código aca\n",
        "mul = 43*28\n",
        "print(mul)\n",
        "\n"
      ]
    },
    {
      "cell_type": "code",
      "execution_count": null,
      "metadata": {
        "colab": {
          "base_uri": "https://localhost:8080/",
          "height": 34
        },
        "id": "Yc-16ozPbGti",
        "outputId": "f69dca52-32d2-4e78-e41f-a528455781f3"
      },
      "outputs": [
        {
          "data": {
            "text/plain": [
              "1204"
            ]
          },
          "execution_count": 2,
          "metadata": {},
          "output_type": "execute_result"
        }
      ],
      "source": []
    },
    {
      "cell_type": "markdown",
      "metadata": {
        "id": "aEaEZENK2oPn"
      },
      "source": [
        "** *texto en cursiva*Cuanto es $7^4$?**"
      ]
    },
    {
      "cell_type": "code",
      "execution_count": 4,
      "metadata": {
        "colab": {
          "base_uri": "https://localhost:8080/"
        },
        "id": "Qefaa4MBbHkN",
        "outputId": "f34b323c-009b-4692-d89e-bdef7abf167c"
      },
      "outputs": [
        {
          "output_type": "execute_result",
          "data": {
            "text/plain": [
              "2401"
            ]
          },
          "metadata": {},
          "execution_count": 4
        }
      ],
      "source": [
        "# Copie su código aca\n",
        "7**4\n",
        "\n"
      ]
    },
    {
      "cell_type": "code",
      "execution_count": null,
      "metadata": {
        "id": "Xe4wD5AG2oPo",
        "outputId": "e18a83b2-71fd-4a0b-dbe4-943481e85d35"
      },
      "outputs": [
        {
          "data": {
            "text/plain": [
              "2401"
            ]
          },
          "execution_count": 4,
          "metadata": {},
          "output_type": "execute_result"
        }
      ],
      "source": []
    },
    {
      "cell_type": "markdown",
      "metadata": {
        "id": "i-1JI-Ch2oPr"
      },
      "source": [
        "**Divida esta cadena de caracteres:**\n",
        "\n",
        "    s = \"Hola Estoy feliz aprendiendo python!\"\n",
        "    \n",
        "**y conviertalo en una lista**"
      ]
    },
    {
      "cell_type": "code",
      "execution_count": 31,
      "metadata": {
        "colab": {
          "base_uri": "https://localhost:8080/"
        },
        "id": "vLkA5MCbbIkj",
        "outputId": "bf0571f1-e036-4c58-b11a-a2ede9410a72"
      },
      "outputs": [
        {
          "output_type": "stream",
          "name": "stdout",
          "text": [
            "Hola\n",
            "Estoy\n",
            "feliz\n",
            "aprendiendo\n",
            "python!\n"
          ]
        }
      ],
      "source": [
        "# Copie su código\n",
        "s = \"Hola Estoy feliz aprendiendo python!\"\n",
        "text = s.split(\" \")\n",
        "lista = [text]\n",
        "\n",
        "for i in lista:\n",
        "  for palabra in i:\n",
        "    print(f\"{palabra}\")\n"
      ]
    },
    {
      "cell_type": "code",
      "execution_count": null,
      "metadata": {
        "id": "vQJSpy9i2oPs",
        "outputId": "2be99425-a305-4e78-d4f4-3589df8a9b7f"
      },
      "outputs": [
        {
          "data": {
            "text/plain": [
              "['Hola', 'Estoy', 'feliz', 'aprendiendo', 'python!']"
            ]
          },
          "execution_count": 6,
          "metadata": {},
          "output_type": "execute_result"
        }
      ],
      "source": []
    },
    {
      "cell_type": "markdown",
      "metadata": {
        "id": "Y1O1W6vo2oPw"
      },
      "source": [
        "**Dadas las siguientes variables:**\n",
        "\n",
        "    planeta = \"Tierra\"\n",
        "    diametro = 12742\n",
        "\n",
        "**Use f-strings para imprimir lo siguiente:**\n",
        "\n",
        "\n",
        "    El diametro de la Tierra es de 12742 kilometros."
      ]
    },
    {
      "cell_type": "code",
      "execution_count": 32,
      "metadata": {
        "id": "Ym7GCB3O2oPx"
      },
      "outputs": [],
      "source": [
        "planeta = \"Tierra\"\n",
        "diametro = 12742"
      ]
    },
    {
      "cell_type": "code",
      "execution_count": 33,
      "metadata": {
        "colab": {
          "base_uri": "https://localhost:8080/"
        },
        "id": "obPc5frW6HZr",
        "outputId": "7372adef-018d-4701-a6bb-ffb6fa34db34"
      },
      "outputs": [
        {
          "output_type": "stream",
          "name": "stdout",
          "text": [
            "el diametro del la Tierra es de 12742 kilometros\n"
          ]
        }
      ],
      "source": [
        "# Copie su código aca\n",
        "print(f\"el diametro del la {planeta} es de {diametro} kilometros\")"
      ]
    },
    {
      "cell_type": "code",
      "execution_count": 33,
      "metadata": {
        "id": "XHmN9MI12oP0"
      },
      "outputs": [],
      "source": []
    },
    {
      "cell_type": "markdown",
      "metadata": {
        "id": "S2N_gH8S2oP3"
      },
      "source": [
        "**Dada la siguiente lista con muchos elementos, use la indexacion para extraer la palabra \"hello\"**"
      ]
    },
    {
      "cell_type": "code",
      "execution_count": 41,
      "metadata": {
        "id": "jfWj5_OY2oP4"
      },
      "outputs": [],
      "source": [
        "lst = [1, 2, [3, 4], [5, [100, 200, [\"hello\"]], 23, 11], 1, 7]"
      ]
    },
    {
      "cell_type": "code",
      "execution_count": 55,
      "metadata": {
        "colab": {
          "base_uri": "https://localhost:8080/"
        },
        "id": "5JtntosubJxb",
        "outputId": "b9751156-fa12-406b-fa13-6db86a3498f6"
      },
      "outputs": [
        {
          "output_type": "stream",
          "name": "stdout",
          "text": [
            "5\n"
          ]
        }
      ],
      "source": [
        "# Copie su código aca\n",
        "elemento = 7\n",
        "print(lst.index(elemento))\n"
      ]
    },
    {
      "cell_type": "code",
      "execution_count": null,
      "metadata": {
        "id": "B7NT6yE62oP8",
        "outputId": "ea7f1208-c399-400a-8e29-6dc741fe652a"
      },
      "outputs": [
        {
          "data": {
            "text/plain": [
              "'hello'"
            ]
          },
          "execution_count": 12,
          "metadata": {},
          "output_type": "execute_result"
        }
      ],
      "source": []
    },
    {
      "cell_type": "markdown",
      "metadata": {
        "id": "vmO3QzVE2oQB"
      },
      "source": [
        "**Dado el siguiente diccionario extraiga la palabra \"hello\". Este puede ser un poco truculento**"
      ]
    },
    {
      "cell_type": "code",
      "execution_count": 56,
      "metadata": {
        "id": "hDaZrl5a2oQC"
      },
      "outputs": [],
      "source": [
        "d = {\n",
        "    \"ID1\": [\n",
        "        1,\n",
        "        2,\n",
        "        3,\n",
        "        {\"truco\": [\"oh\", \"por\", \"Dios\", \"En serio\", {\"target\": [1, 2, 3, \"hello\"]}]},\n",
        "    ]\n",
        "}"
      ]
    },
    {
      "cell_type": "code",
      "execution_count": 93,
      "metadata": {
        "colab": {
          "base_uri": "https://localhost:8080/"
        },
        "id": "u_IGWwu7bKmw",
        "outputId": "6fb4ef6a-07a0-439b-9946-02c7c2fd1d09"
      },
      "outputs": [
        {
          "output_type": "stream",
          "name": "stdout",
          "text": [
            "hello\n"
          ]
        }
      ],
      "source": [
        "# Copie su código aca\n",
        "lit = d[\"ID1\"][3]['truco'][4]['target'][3]\n",
        "print(lit)\n"
      ]
    },
    {
      "cell_type": "code",
      "execution_count": null,
      "metadata": {
        "id": "pY9Cg0rO2oQG",
        "outputId": "00fb74d8-74b9-4a4d-edef-e52face06e76"
      },
      "outputs": [
        {
          "data": {
            "text/plain": [
              "'hello'"
            ]
          },
          "execution_count": 15,
          "metadata": {},
          "output_type": "execute_result"
        }
      ],
      "source": []
    },
    {
      "cell_type": "markdown",
      "metadata": {
        "id": "Ww0TSfVp2oQK"
      },
      "source": [
        "**Cual es la diferencia principal entre una tupla y una lista?**"
      ]
    },
    {
      "cell_type": "code",
      "execution_count": null,
      "metadata": {
        "id": "hfh9YrPu2oQM"
      },
      "outputs": [],
      "source": [
        "# La tupla es inmutable"
      ]
    },
    {
      "cell_type": "markdown",
      "metadata": {
        "id": "SMKDLfxy2oQO"
      },
      "source": [
        "\n",
        "\n",
        "```\n",
        "# Esto tiene formato de código\n",
        "```\n",
        "\n"
      ]
    },
    {
      "cell_type": "markdown",
      "metadata": {
        "id": "adS1ByOx2oQP"
      },
      "source": [
        "**Agregar el nombre Jose al final de la siguiente lista**\n",
        "\n",
        "[\"Alvaro\", \"Jacinto\", \"Miguel\", \"Edgardo\", \"David\"]"
      ]
    },
    {
      "cell_type": "code",
      "execution_count": null,
      "metadata": {
        "id": "uH7dNwwsZTqv"
      },
      "outputs": [],
      "source": [
        "# Copie su código aca"
      ]
    },
    {
      "cell_type": "code",
      "execution_count": 94,
      "metadata": {
        "colab": {
          "base_uri": "https://localhost:8080/"
        },
        "id": "lNwpP9vv2oQP",
        "outputId": "ca6ba89e-577d-4e90-d0e8-8501c55c07c8"
      },
      "outputs": [
        {
          "output_type": "stream",
          "name": "stdout",
          "text": [
            "['Alvaro', 'Jacinto', 'Miguel', 'Edgardo', 'David', 'Jose']\n"
          ]
        }
      ],
      "source": [
        "lista = [\"Alvaro\", \"Jacinto\", \"Miguel\", \"Edgardo\", \"David\"]\n",
        "lista.append(\"Jose\")\n",
        "print(lista)"
      ]
    },
    {
      "cell_type": "markdown",
      "metadata": {
        "id": "nRtyETSF2oQX"
      },
      "source": [
        "**Cuente Cuantas veces esta el nombre Miguel de la siguiente lista**\n",
        "\n",
        "[\"Alvaro\", \"Miguel\", \"Edgardo\", \"David\", \"Miguel\"]"
      ]
    },
    {
      "cell_type": "code",
      "execution_count": 97,
      "metadata": {
        "colab": {
          "base_uri": "https://localhost:8080/"
        },
        "id": "81W-x6LH2oQZ",
        "outputId": "c7816939-ef07-4d63-c2ae-73b666ab6cb5"
      },
      "outputs": [
        {
          "output_type": "stream",
          "name": "stdout",
          "text": [
            "2\n"
          ]
        }
      ],
      "source": [
        "# Copie su código aca\n",
        "contar = [\"Alvaro\", \"Miguel\", \"Edgardo\", \"David\", \"Miguel\"]\n",
        "print(contar.count(\"Miguel\"))\n"
      ]
    },
    {
      "cell_type": "code",
      "execution_count": null,
      "metadata": {
        "id": "QG8yczM22oQc",
        "outputId": "c7562bef-4abf-4360-f5b5-c8926578c17d"
      },
      "outputs": [
        {
          "data": {
            "text/plain": [
              "2"
            ]
          },
          "execution_count": 20,
          "metadata": {},
          "output_type": "execute_result"
        }
      ],
      "source": []
    },
    {
      "cell_type": "markdown",
      "metadata": {
        "id": "hbjBiOGs2oQf"
      },
      "source": [
        "**Convierta la siguiente palabra en letras minusculas:**\n",
        "\n",
        "Soy FeliZ APREndienDo PYTHon pAra PROceSar DaTos"
      ]
    },
    {
      "cell_type": "code",
      "execution_count": null,
      "metadata": {
        "id": "PSBAuuNl2oQi"
      },
      "outputs": [],
      "source": [
        "# Copie su código aca"
      ]
    },
    {
      "cell_type": "code",
      "execution_count": 100,
      "metadata": {
        "colab": {
          "base_uri": "https://localhost:8080/"
        },
        "id": "V4QoTky12oQg",
        "outputId": "c36c1c5f-da75-4737-ba45-3251809ae3f0"
      },
      "outputs": [
        {
          "output_type": "stream",
          "name": "stdout",
          "text": [
            "soy feliz aprendiendo python para procesar datos\n"
          ]
        }
      ],
      "source": [
        "frase = \"Soy FeliZ APREndienDo PYTHon pAra PROceSar DaTos\"\n",
        "imprimir = frase.lower()\n",
        "print(imprimir)"
      ]
    },
    {
      "cell_type": "markdown",
      "metadata": {
        "id": "cJVcOvOA2oQm"
      },
      "source": [
        "**los siguientes números cambie la coma por un punto**\n",
        "\n",
        "'17656734,87'"
      ]
    },
    {
      "cell_type": "code",
      "execution_count": null,
      "metadata": {
        "id": "t1HZbKZ1ZTqx"
      },
      "outputs": [],
      "source": [
        "# Copie su código aca"
      ]
    },
    {
      "cell_type": "code",
      "execution_count": 102,
      "metadata": {
        "colab": {
          "base_uri": "https://localhost:8080/"
        },
        "id": "nHg9CvmD2oQn",
        "outputId": "b86dd958-a7e7-425f-a44b-ac592f93314a"
      },
      "outputs": [
        {
          "output_type": "stream",
          "name": "stdout",
          "text": [
            "17656734.87\n"
          ]
        }
      ],
      "source": [
        "numeritos = '17656734,87'\n",
        "remplace = numeritos.replace(\",\",\".\")\n",
        "print(remplace)"
      ]
    },
    {
      "cell_type": "markdown",
      "metadata": {
        "id": "gFBTXT032oQs"
      },
      "source": [
        "**Cree una función llamada `domainGet` que capture el dominio del sitio web de correo electrónico a partir de una cadena con el siguiente formato:**\n",
        "\n",
        "    user@domain.com\n",
        "    \n",
        "**Por ejemplo, Con el siguiente argumento \"juan_perez@correo.com\" la función retornara: correo.com**"
      ]
    },
    {
      "cell_type": "code",
      "execution_count": 108,
      "metadata": {
        "id": "mRMjLhh92oQt"
      },
      "outputs": [],
      "source": [
        "# Copie su código aca\n",
        "def domainGet(mail):\n",
        "  splitcorreo = mail.split(\"@\")\n",
        "  return splitcorreo[1]"
      ]
    },
    {
      "cell_type": "code",
      "execution_count": 109,
      "metadata": {
        "colab": {
          "base_uri": "https://localhost:8080/",
          "height": 55
        },
        "id": "w-iXGCUM2oQw",
        "outputId": "aee7b68e-37ba-4d62-cee4-9617f928e5c0"
      },
      "outputs": [
        {
          "output_type": "execute_result",
          "data": {
            "text/plain": [
              "'correo.com'"
            ],
            "application/vnd.google.colaboratory.intrinsic+json": {
              "type": "string"
            }
          },
          "metadata": {},
          "execution_count": 109
        }
      ],
      "source": [
        "domainGet(\"juan_perez@correo.com\")  # noqa\n"
      ]
    },
    {
      "cell_type": "markdown",
      "metadata": {
        "id": "8opTy2Wp2oQz"
      },
      "source": [
        "**Cree una función básica llamada buscar `palabra_promedio` que devuelva True si la palabra 'promedio' o 'Promedio' o 'PROMEDIO' está contenida en string de entrada. No se preocupe por los casos extremos como una puntuación que se adjunta a la palabra promedio, pero tenga en cuenta las mayúsculas.**"
      ]
    },
    {
      "cell_type": "code",
      "execution_count": 122,
      "metadata": {
        "id": "iVLFNjbx2oQ0"
      },
      "outputs": [],
      "source": [
        "# Copie su código aca\n",
        "def palabra_promedio(texto):\n",
        "  variable = False\n",
        "  texto = texto.lower()\n",
        "  texto = texto.split()\n",
        "  for palabra in texto:\n",
        "    if palabra == \"promedio\":\n",
        "      variable = True\n",
        "  return variable"
      ]
    },
    {
      "cell_type": "code",
      "execution_count": 123,
      "metadata": {
        "colab": {
          "base_uri": "https://localhost:8080/"
        },
        "id": "u-VvSCrX2oQ2",
        "outputId": "5061ae8d-5599-4837-edb2-0cdab67145a2"
      },
      "outputs": [
        {
          "output_type": "execute_result",
          "data": {
            "text/plain": [
              "True"
            ]
          },
          "metadata": {},
          "execution_count": 123
        }
      ],
      "source": [
        "palabra_promedio(\"El Promedio de la clase es de 4.3\")  # noqa"
      ]
    },
    {
      "cell_type": "markdown",
      "metadata": {
        "id": "O9o5r5jG2oQ7"
      },
      "source": [
        "**Crea una función llamada contar_python que cuente la cantidad de veces que aparece la palabra \"python\" en una cadena. Nuevamente ignore los casos extremos.**"
      ]
    },
    {
      "cell_type": "code",
      "execution_count": 124,
      "metadata": {
        "id": "25Hi43THZTqz"
      },
      "outputs": [],
      "source": [
        "# Copie su código aca\n",
        "def contar_python(texto):\n",
        "  texto = texto.lower()\n",
        "  texto = texto.split()\n",
        "  cuenta = texto.count(\"python\")\n",
        "  return cuenta"
      ]
    },
    {
      "cell_type": "code",
      "execution_count": 125,
      "metadata": {
        "colab": {
          "base_uri": "https://localhost:8080/"
        },
        "id": "t_Tt71pM2oQ9",
        "outputId": "48ec8128-cb55-4228-cafd-a6b5fd9a5c01"
      },
      "outputs": [
        {
          "output_type": "execute_result",
          "data": {
            "text/plain": [
              "2"
            ]
          },
          "metadata": {},
          "execution_count": 125
        }
      ],
      "source": [
        "contar_python(\"Python es un lenguaje de programacion, Python es divertido\")  # noqa"
      ]
    },
    {
      "cell_type": "markdown",
      "metadata": {
        "id": "U6gt0Pxp2oRI"
      },
      "source": [
        "**Problema final**\n",
        "\n",
        "Un científico de datos está trabajando en un proyecto para desarrollar una función para detectar anomalías (outliers) extremas en un conjunto de datos de valores positivos. La función debe ser capaz de determinar si un dato es: normal, anormal o indeterminado en función de su valor y su desviación estándar.\n",
        "\n",
        "La función `deteccion_anomalias` tiene las siguientes reglas:\n",
        "1. Tiene que recibir como argumentos tres números y un boolean:\n",
        "   - El valor del dato (float)\n",
        "   - La media (float)\n",
        "   - La desviación estándar (float)\n",
        "   - Si el tipo de distribución es normal (bool).\n",
        "2. Si la distribuccion en normal y Si el valor del dato es mayor a la media mas 3 veces la desviación estándar, la función debe retornar \"anormal\".\n",
        "3. Si la distribuccion en normal y Si el valor del dato es menor a la media menos 3 veces la desviación estándar, la función debe retornar \"normal\".\n",
        "4. En los casos contrarios a los anteriores debe retornar \"indeterminado\".\n",
        "\n"
      ]
    },
    {
      "cell_type": "code",
      "execution_count": null,
      "metadata": {
        "id": "H94w4mVvZTq0"
      },
      "outputs": [],
      "source": [
        "# Copie su código aca"
      ]
    },
    {
      "cell_type": "code",
      "execution_count": null,
      "metadata": {
        "id": "oDrImTvx6om6",
        "outputId": "16de15c4-742e-406c-b169-dc51192e59a5"
      },
      "outputs": [
        {
          "data": {
            "text/plain": [
              "'normal'"
            ]
          },
          "execution_count": 33,
          "metadata": {},
          "output_type": "execute_result"
        }
      ],
      "source": [
        "deteccion_anomalia(  # noqa\n",
        "    valor=15.6, valor_media=9.5, desviacion_estandar=8.7, distribucion_normal=True\n",
        ")"
      ]
    },
    {
      "cell_type": "code",
      "execution_count": null,
      "metadata": {
        "id": "0ZlxcKPBZTq0",
        "outputId": "f43ed798-8cf6-48fe-9b3d-b0d05355bab9"
      },
      "outputs": [
        {
          "data": {
            "text/plain": [
              "'anormal'"
            ]
          },
          "execution_count": 34,
          "metadata": {},
          "output_type": "execute_result"
        }
      ],
      "source": [
        "deteccion_anomalia(  # noqa\n",
        "    valor=45.4, valor_media=9.5, desviacion_estandar=8.7, distribucion_normal=True\n",
        ")"
      ]
    },
    {
      "cell_type": "code",
      "execution_count": null,
      "metadata": {
        "id": "9zV3oJSk6s7A",
        "outputId": "56e2833f-2763-415d-c8b7-6c7c51f298e0"
      },
      "outputs": [
        {
          "data": {
            "text/plain": [
              "'indeterminado'"
            ]
          },
          "execution_count": 35,
          "metadata": {},
          "output_type": "execute_result"
        }
      ],
      "source": [
        "deteccion_anomalia(  # noqa\n",
        "    valor=15.6, valor_media=9.5, desviacion_estandar=8.7, distribucion_normal=False\n",
        ")"
      ]
    },
    {
      "cell_type": "markdown",
      "metadata": {
        "id": "WtyeeTATZTq1"
      },
      "source": [
        "## Referencia\n",
        "\n",
        "https://joserzapata.github.io/courses/python-ciencia-datos/python/"
      ]
    }
  ],
  "metadata": {
    "colab": {
      "name": "1-Practica_Python.ipynb",
      "provenance": []
    },
    "kernelspec": {
      "display_name": "Python 3",
      "language": "python",
      "name": "python3"
    },
    "language_info": {
      "codemirror_mode": {
        "name": "ipython",
        "version": 3
      },
      "file_extension": ".py",
      "mimetype": "text/x-python",
      "name": "python",
      "nbconvert_exporter": "python",
      "pygments_lexer": "ipython3",
      "version": "3.10.13"
    },
    "toc": {
      "base_numbering": 1,
      "nav_menu": {},
      "number_sections": true,
      "sideBar": true,
      "skip_h1_title": false,
      "title_cell": "Table of Contents",
      "title_sidebar": "Contents",
      "toc_cell": false,
      "toc_position": {},
      "toc_section_display": true,
      "toc_window_display": false
    },
    "varInspector": {
      "cols": {
        "lenName": 16,
        "lenType": 16,
        "lenVar": 40
      },
      "kernels_config": {
        "python": {
          "delete_cmd_postfix": "",
          "delete_cmd_prefix": "del ",
          "library": "var_list.py",
          "varRefreshCmd": "print(var_dic_list())"
        },
        "r": {
          "delete_cmd_postfix": ") ",
          "delete_cmd_prefix": "rm(",
          "library": "var_list.r",
          "varRefreshCmd": "cat(var_dic_list()) "
        }
      },
      "types_to_exclude": [
        "module",
        "function",
        "builtin_function_or_method",
        "instance",
        "_Feature"
      ],
      "window_display": false
    }
  },
  "nbformat": 4,
  "nbformat_minor": 0
}